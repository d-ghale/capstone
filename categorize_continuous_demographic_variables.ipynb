{
 "cells": [
  {
   "cell_type": "code",
   "execution_count": 1,
   "id": "6bb7c4d7",
   "metadata": {},
   "outputs": [
    {
     "name": "stderr",
     "output_type": "stream",
     "text": [
      "/opt/anaconda3/lib/python3.8/site-packages/scipy/__init__.py:138: UserWarning: A NumPy version >=1.16.5 and <1.23.0 is required for this version of SciPy (detected version 1.23.3)\n",
      "  warnings.warn(f\"A NumPy version >={np_minversion} and <{np_maxversion} is required for this version of \"\n"
     ]
    }
   ],
   "source": [
    "import pandas as pd\n",
    "import janitor\n",
    "import gc\n",
    "import matplotlib.pyplot as plt"
   ]
  },
  {
   "cell_type": "code",
   "execution_count": 2,
   "id": "07eea0cc",
   "metadata": {},
   "outputs": [],
   "source": [
    "state_demographic = pd.read_parquet('VM2--CA--2022-04-25-DEMOGRAPHIC_selected_cols.parquet')"
   ]
  },
  {
   "cell_type": "code",
   "execution_count": 3,
   "id": "4934695e",
   "metadata": {},
   "outputs": [
    {
     "data": {
      "text/html": [
       "<div>\n",
       "<style scoped>\n",
       "    .dataframe tbody tr th:only-of-type {\n",
       "        vertical-align: middle;\n",
       "    }\n",
       "\n",
       "    .dataframe tbody tr th {\n",
       "        vertical-align: top;\n",
       "    }\n",
       "\n",
       "    .dataframe thead th {\n",
       "        text-align: right;\n",
       "    }\n",
       "</style>\n",
       "<table border=\"1\" class=\"dataframe\">\n",
       "  <thead>\n",
       "    <tr style=\"text-align: right;\">\n",
       "      <th></th>\n",
       "      <th>LALVOTERID</th>\n",
       "      <th>Residence_Addresses_City</th>\n",
       "      <th>Voters_Gender</th>\n",
       "      <th>Voters_Age</th>\n",
       "      <th>Parties_Description</th>\n",
       "      <th>EthnicGroups_EthnicGroup1Desc</th>\n",
       "      <th>Voters_OfficialRegDate</th>\n",
       "      <th>County</th>\n",
       "      <th>CommercialData_Education</th>\n",
       "      <th>CommercialData_EstimatedHHIncome</th>\n",
       "      <th>FECDonors_NumberOfDonations</th>\n",
       "      <th>FECDonors_TotalDonationsAmount</th>\n",
       "    </tr>\n",
       "  </thead>\n",
       "  <tbody>\n",
       "    <tr>\n",
       "      <th>0</th>\n",
       "      <td>LALCA453164106</td>\n",
       "      <td>Oakland</td>\n",
       "      <td>F</td>\n",
       "      <td>29</td>\n",
       "      <td>Democratic</td>\n",
       "      <td>Other</td>\n",
       "      <td>06/18/2021</td>\n",
       "      <td>ALAMEDA</td>\n",
       "      <td>None</td>\n",
       "      <td>None</td>\n",
       "      <td>None</td>\n",
       "      <td>None</td>\n",
       "    </tr>\n",
       "    <tr>\n",
       "      <th>1</th>\n",
       "      <td>LALCA453008306</td>\n",
       "      <td>Oakland</td>\n",
       "      <td>F</td>\n",
       "      <td>26</td>\n",
       "      <td>Non-Partisan</td>\n",
       "      <td>Likely African-American</td>\n",
       "      <td>04/01/2021</td>\n",
       "      <td>ALAMEDA</td>\n",
       "      <td>None</td>\n",
       "      <td>None</td>\n",
       "      <td>None</td>\n",
       "      <td>None</td>\n",
       "    </tr>\n",
       "    <tr>\n",
       "      <th>2</th>\n",
       "      <td>LALCA22129469</td>\n",
       "      <td>Oakland</td>\n",
       "      <td>F</td>\n",
       "      <td>47</td>\n",
       "      <td>Democratic</td>\n",
       "      <td>European</td>\n",
       "      <td>11/16/2021</td>\n",
       "      <td>ALAMEDA</td>\n",
       "      <td>HS Diploma - Extremely Likely</td>\n",
       "      <td>None</td>\n",
       "      <td>None</td>\n",
       "      <td>None</td>\n",
       "    </tr>\n",
       "    <tr>\n",
       "      <th>3</th>\n",
       "      <td>LALCA549803906</td>\n",
       "      <td>Oakland</td>\n",
       "      <td>M</td>\n",
       "      <td>60</td>\n",
       "      <td>Democratic</td>\n",
       "      <td>Other</td>\n",
       "      <td>02/07/2022</td>\n",
       "      <td>ALAMEDA</td>\n",
       "      <td>None</td>\n",
       "      <td>None</td>\n",
       "      <td>None</td>\n",
       "      <td>None</td>\n",
       "    </tr>\n",
       "    <tr>\n",
       "      <th>4</th>\n",
       "      <td>LALCA24729024</td>\n",
       "      <td>San Leandro</td>\n",
       "      <td>F</td>\n",
       "      <td>56</td>\n",
       "      <td>Democratic</td>\n",
       "      <td>European</td>\n",
       "      <td>02/28/2016</td>\n",
       "      <td>ALAMEDA</td>\n",
       "      <td>HS Diploma - Extremely Likely</td>\n",
       "      <td>None</td>\n",
       "      <td>None</td>\n",
       "      <td>None</td>\n",
       "    </tr>\n",
       "  </tbody>\n",
       "</table>\n",
       "</div>"
      ],
      "text/plain": [
       "       LALVOTERID Residence_Addresses_City Voters_Gender Voters_Age  \\\n",
       "0  LALCA453164106                  Oakland             F         29   \n",
       "1  LALCA453008306                  Oakland             F         26   \n",
       "2   LALCA22129469                  Oakland             F         47   \n",
       "3  LALCA549803906                  Oakland             M         60   \n",
       "4   LALCA24729024              San Leandro             F         56   \n",
       "\n",
       "  Parties_Description EthnicGroups_EthnicGroup1Desc Voters_OfficialRegDate  \\\n",
       "0          Democratic                         Other             06/18/2021   \n",
       "1        Non-Partisan       Likely African-American             04/01/2021   \n",
       "2          Democratic                      European             11/16/2021   \n",
       "3          Democratic                         Other             02/07/2022   \n",
       "4          Democratic                      European             02/28/2016   \n",
       "\n",
       "    County       CommercialData_Education CommercialData_EstimatedHHIncome  \\\n",
       "0  ALAMEDA                           None                             None   \n",
       "1  ALAMEDA                           None                             None   \n",
       "2  ALAMEDA  HS Diploma - Extremely Likely                             None   \n",
       "3  ALAMEDA                           None                             None   \n",
       "4  ALAMEDA  HS Diploma - Extremely Likely                             None   \n",
       "\n",
       "  FECDonors_NumberOfDonations FECDonors_TotalDonationsAmount  \n",
       "0                        None                           None  \n",
       "1                        None                           None  \n",
       "2                        None                           None  \n",
       "3                        None                           None  \n",
       "4                        None                           None  "
      ]
     },
     "execution_count": 3,
     "metadata": {},
     "output_type": "execute_result"
    }
   ],
   "source": [
    "state_demographic.head(5)"
   ]
  },
  {
   "cell_type": "code",
   "execution_count": 4,
   "id": "7dad61fa",
   "metadata": {},
   "outputs": [
    {
     "data": {
      "text/html": [
       "<div>\n",
       "<style scoped>\n",
       "    .dataframe tbody tr th:only-of-type {\n",
       "        vertical-align: middle;\n",
       "    }\n",
       "\n",
       "    .dataframe tbody tr th {\n",
       "        vertical-align: top;\n",
       "    }\n",
       "\n",
       "    .dataframe thead th {\n",
       "        text-align: right;\n",
       "    }\n",
       "</style>\n",
       "<table border=\"1\" class=\"dataframe\">\n",
       "  <thead>\n",
       "    <tr style=\"text-align: right;\">\n",
       "      <th></th>\n",
       "      <th>LALVOTERID</th>\n",
       "      <th>Residence_Addresses_City</th>\n",
       "      <th>Voters_Gender</th>\n",
       "      <th>Voters_Age</th>\n",
       "      <th>Parties_Description</th>\n",
       "      <th>EthnicGroups_EthnicGroup1Desc</th>\n",
       "      <th>Voters_OfficialRegDate</th>\n",
       "      <th>County</th>\n",
       "      <th>CommercialData_Education</th>\n",
       "      <th>CommercialData_EstimatedHHIncome</th>\n",
       "      <th>FECDonors_NumberOfDonations</th>\n",
       "      <th>FECDonors_TotalDonationsAmount</th>\n",
       "    </tr>\n",
       "  </thead>\n",
       "  <tbody>\n",
       "    <tr>\n",
       "      <th>0</th>\n",
       "      <td>LALCA453164106</td>\n",
       "      <td>Oakland</td>\n",
       "      <td>F</td>\n",
       "      <td>29.0</td>\n",
       "      <td>Democratic</td>\n",
       "      <td>Other</td>\n",
       "      <td>06/18/2021</td>\n",
       "      <td>ALAMEDA</td>\n",
       "      <td>None</td>\n",
       "      <td>None</td>\n",
       "      <td>0.0</td>\n",
       "      <td>0.0</td>\n",
       "    </tr>\n",
       "    <tr>\n",
       "      <th>1</th>\n",
       "      <td>LALCA453008306</td>\n",
       "      <td>Oakland</td>\n",
       "      <td>F</td>\n",
       "      <td>26.0</td>\n",
       "      <td>Non-Partisan</td>\n",
       "      <td>Likely African-American</td>\n",
       "      <td>04/01/2021</td>\n",
       "      <td>ALAMEDA</td>\n",
       "      <td>None</td>\n",
       "      <td>None</td>\n",
       "      <td>0.0</td>\n",
       "      <td>0.0</td>\n",
       "    </tr>\n",
       "    <tr>\n",
       "      <th>2</th>\n",
       "      <td>LALCA22129469</td>\n",
       "      <td>Oakland</td>\n",
       "      <td>F</td>\n",
       "      <td>47.0</td>\n",
       "      <td>Democratic</td>\n",
       "      <td>European</td>\n",
       "      <td>11/16/2021</td>\n",
       "      <td>ALAMEDA</td>\n",
       "      <td>HS Diploma - Extremely Likely</td>\n",
       "      <td>None</td>\n",
       "      <td>0.0</td>\n",
       "      <td>0.0</td>\n",
       "    </tr>\n",
       "    <tr>\n",
       "      <th>3</th>\n",
       "      <td>LALCA549803906</td>\n",
       "      <td>Oakland</td>\n",
       "      <td>M</td>\n",
       "      <td>60.0</td>\n",
       "      <td>Democratic</td>\n",
       "      <td>Other</td>\n",
       "      <td>02/07/2022</td>\n",
       "      <td>ALAMEDA</td>\n",
       "      <td>None</td>\n",
       "      <td>None</td>\n",
       "      <td>0.0</td>\n",
       "      <td>0.0</td>\n",
       "    </tr>\n",
       "    <tr>\n",
       "      <th>4</th>\n",
       "      <td>LALCA24729024</td>\n",
       "      <td>San Leandro</td>\n",
       "      <td>F</td>\n",
       "      <td>56.0</td>\n",
       "      <td>Democratic</td>\n",
       "      <td>European</td>\n",
       "      <td>02/28/2016</td>\n",
       "      <td>ALAMEDA</td>\n",
       "      <td>HS Diploma - Extremely Likely</td>\n",
       "      <td>None</td>\n",
       "      <td>0.0</td>\n",
       "      <td>0.0</td>\n",
       "    </tr>\n",
       "  </tbody>\n",
       "</table>\n",
       "</div>"
      ],
      "text/plain": [
       "       LALVOTERID Residence_Addresses_City Voters_Gender  Voters_Age  \\\n",
       "0  LALCA453164106                  Oakland             F        29.0   \n",
       "1  LALCA453008306                  Oakland             F        26.0   \n",
       "2   LALCA22129469                  Oakland             F        47.0   \n",
       "3  LALCA549803906                  Oakland             M        60.0   \n",
       "4   LALCA24729024              San Leandro             F        56.0   \n",
       "\n",
       "  Parties_Description EthnicGroups_EthnicGroup1Desc Voters_OfficialRegDate  \\\n",
       "0          Democratic                         Other             06/18/2021   \n",
       "1        Non-Partisan       Likely African-American             04/01/2021   \n",
       "2          Democratic                      European             11/16/2021   \n",
       "3          Democratic                         Other             02/07/2022   \n",
       "4          Democratic                      European             02/28/2016   \n",
       "\n",
       "    County       CommercialData_Education CommercialData_EstimatedHHIncome  \\\n",
       "0  ALAMEDA                           None                             None   \n",
       "1  ALAMEDA                           None                             None   \n",
       "2  ALAMEDA  HS Diploma - Extremely Likely                             None   \n",
       "3  ALAMEDA                           None                             None   \n",
       "4  ALAMEDA  HS Diploma - Extremely Likely                             None   \n",
       "\n",
       "   FECDonors_NumberOfDonations  FECDonors_TotalDonationsAmount  \n",
       "0                          0.0                             0.0  \n",
       "1                          0.0                             0.0  \n",
       "2                          0.0                             0.0  \n",
       "3                          0.0                             0.0  \n",
       "4                          0.0                             0.0  "
      ]
     },
     "execution_count": 4,
     "metadata": {},
     "output_type": "execute_result"
    }
   ],
   "source": [
    "#define continuous variables\n",
    "continuous_vars = ['Voters_Age', \n",
    "                   'FECDonors_NumberOfDonations',\n",
    "                   'FECDonors_TotalDonationsAmount']\n",
    "\n",
    "#for each continuous var change dtype to numeric and fill nan's with zeros\n",
    "for col_name in continuous_vars:\n",
    "    state_demographic[col_name] = pd.to_numeric(state_demographic[col_name])\n",
    "    state_demographic[col_name].fillna(0, inplace=True)\n",
    "\n",
    "state_demographic.head()"
   ]
  },
  {
   "cell_type": "code",
   "execution_count": 8,
   "id": "fd3818f2",
   "metadata": {},
   "outputs": [
    {
     "data": {
      "text/plain": [
       "Text(0.5, 1.0, 'FECDonors_TotalDonationsAmount (nonzero)')"
      ]
     },
     "execution_count": 8,
     "metadata": {},
     "output_type": "execute_result"
    },
    {
     "data": {
      "image/png": "[encoded data removed]",
      "text/plain": [
       "<Figure size 720x720 with 3 Axes>"
      ]
     },
     "metadata": {
      "needs_background": "light"
     },
     "output_type": "display_data"
    }
   ],
   "source": [
    "#plot distibutions of continuous variables\n",
    "fig, axs = plt.subplots(3, figsize=(10, 10))\n",
    "\n",
    "axs[0].hist(state_demographic['Voters_Age'])\n",
    "axs[0].set_title('Voters_Age')\n",
    "\n",
    "axs[1].hist(state_demographic['FECDonors_NumberOfDonations'])\n",
    "axs[1].set_title('FECDonors_NumberOfDonations (nonzero)')\n",
    "\n",
    "axs[2].hist(state_demographic['FECDonors_TotalDonationsAmount'])\n",
    "axs[2].set_title('FECDonors_TotalDonationsAmount (nonzero)')\n"
   ]
  },
  {
   "cell_type": "code",
   "execution_count": 10,
   "id": "b5e10844",
   "metadata": {},
   "outputs": [],
   "source": [
    "#create categories for age\n",
    "state_demographic['Voters_Age_label'] = pd.cut(x=state_demographic['Voters_Age'],\n",
    "                                         bins=[0, 30, 40, 50, 60, 70, 80, 150],\n",
    "                                         labels=['>=30','31-40','41-50','51-60', '61-70', '71-80', '80+'])"
   ]
  },
  {
   "cell_type": "code",
   "execution_count": 11,
   "id": "221c9e39",
   "metadata": {},
   "outputs": [],
   "source": [
    "#since vast majority of voters have zero donations, we will create quantile categories only for non-zero donations\n",
    "#create lists of non-zero values for FECDonors_NumberOfDonations and FECDonors_TotalDonationsAmount\n",
    "FECDonors_NumberOfDonations_nonzero = state_demographic['FECDonors_NumberOfDonations'][state_demographic['FECDonors_NumberOfDonations']!=0]\n",
    "FECDonors_TotalDonationsAmount_nonzero = state_demographic['FECDonors_TotalDonationsAmount'][state_demographic['FECDonors_TotalDonationsAmount']!=0]"
   ]
  },
  {
   "cell_type": "code",
   "execution_count": 12,
   "id": "9f73f20a",
   "metadata": {},
   "outputs": [
    {
     "data": {
      "text/plain": [
       "18          (18.0, 28970.0]\n",
       "35              (5.0, 18.0]\n",
       "38              (5.0, 18.0]\n",
       "53              (5.0, 18.0]\n",
       "54          (18.0, 28970.0]\n",
       "                 ...       \n",
       "21711091         (2.0, 5.0]\n",
       "21711128        (5.0, 18.0]\n",
       "21711336       (0.999, 2.0]\n",
       "21711352    (18.0, 28970.0]\n",
       "21711435         (2.0, 5.0]\n",
       "Name: FECDonors_NumberOfDonations, Length: 697076, dtype: category\n",
       "Categories (4, interval[float64]): [(0.999, 2.0] < (2.0, 5.0] < (5.0, 18.0] < (18.0, 28970.0]]"
      ]
     },
     "execution_count": 12,
     "metadata": {},
     "output_type": "execute_result"
    }
   ],
   "source": [
    "#compute quartiles for nonzero number of donations\n",
    "pd.qcut(FECDonors_NumberOfDonations_nonzero, 4)"
   ]
  },
  {
   "cell_type": "code",
   "execution_count": 13,
   "id": "c4524919",
   "metadata": {},
   "outputs": [],
   "source": [
    "#create labels based on quartiles (with separate label for zero donations)\n",
    "state_demographic['FECDonors_NumberOfDonations_label'] = pd.cut(x=state_demographic['FECDonors_NumberOfDonations'],\n",
    "                                                               bins=[-1, 0.999, 2, 5, 18, 28970],\n",
    "                                                               labels=['0','1','2','3','4'])"
   ]
  },
  {
   "cell_type": "code",
   "execution_count": 14,
   "id": "e8f4574e",
   "metadata": {},
   "outputs": [
    {
     "data": {
      "text/plain": [
       "<AxesSubplot:>"
      ]
     },
     "execution_count": 14,
     "metadata": {},
     "output_type": "execute_result"
    },
    {
     "data": {
      "image/png": "[encoded data removed]",
      "text/plain": [
       "<Figure size 432x288 with 1 Axes>"
      ]
     },
     "metadata": {
      "needs_background": "light"
     },
     "output_type": "display_data"
    }
   ],
   "source": [
    "state_demographic['FECDonors_NumberOfDonations_label'].hist()"
   ]
  },
  {
   "cell_type": "code",
   "execution_count": 15,
   "id": "f55630c9",
   "metadata": {},
   "outputs": [
    {
     "data": {
      "text/plain": [
       "18          (2000.0, 49293201.0]\n",
       "35               (574.0, 2000.0]\n",
       "38          (2000.0, 49293201.0]\n",
       "53                (0.999, 220.0]\n",
       "54               (574.0, 2000.0]\n",
       "                    ...         \n",
       "21711091          (220.0, 574.0]\n",
       "21711128          (220.0, 574.0]\n",
       "21711336          (220.0, 574.0]\n",
       "21711352         (574.0, 2000.0]\n",
       "21711435          (0.999, 220.0]\n",
       "Name: FECDonors_TotalDonationsAmount, Length: 697039, dtype: category\n",
       "Categories (4, interval[float64]): [(0.999, 220.0] < (220.0, 574.0] < (574.0, 2000.0] < (2000.0, 49293201.0]]"
      ]
     },
     "execution_count": 15,
     "metadata": {},
     "output_type": "execute_result"
    }
   ],
   "source": [
    "#compute quartiles for nonzero donation amounts\n",
    "pd.qcut(FECDonors_TotalDonationsAmount_nonzero, 4)"
   ]
  },
  {
   "cell_type": "code",
   "execution_count": 16,
   "id": "c0e03286",
   "metadata": {},
   "outputs": [],
   "source": [
    "#create labels based on quartiles (with separate label for zero donations)\n",
    "state_demographic['FECDonors_TotalDonationsAmount_label'] = pd.cut(x=state_demographic['FECDonors_TotalDonationsAmount'],\n",
    "                                                               bins=[-1, 0.999, 220, 574, 2000, 49293201],\n",
    "                                                               labels=['0','1','2','3','4'])"
   ]
  },
  {
   "cell_type": "code",
   "execution_count": 17,
   "id": "3829a6dc",
   "metadata": {},
   "outputs": [
    {
     "data": {
      "text/plain": [
       "<AxesSubplot:>"
      ]
     },
     "execution_count": 17,
     "metadata": {},
     "output_type": "execute_result"
    },
    {
     "data": {
      "image/png": "[encoded data removed]",
      "text/plain": [
       "<Figure size 432x288 with 1 Axes>"
      ]
     },
     "metadata": {
      "needs_background": "light"
     },
     "output_type": "display_data"
    }
   ],
   "source": [
    "state_demographic['FECDonors_TotalDonationsAmount_label'].hist()"
   ]
  },
  {
   "cell_type": "code",
   "execution_count": 18,
   "id": "7592fcde",
   "metadata": {},
   "outputs": [
    {
     "data": {
      "text/html": [
       "<div>\n",
       "<style scoped>\n",
       "    .dataframe tbody tr th:only-of-type {\n",
       "        vertical-align: middle;\n",
       "    }\n",
       "\n",
       "    .dataframe tbody tr th {\n",
       "        vertical-align: top;\n",
       "    }\n",
       "\n",
       "    .dataframe thead th {\n",
       "        text-align: right;\n",
       "    }\n",
       "</style>\n",
       "<table border=\"1\" class=\"dataframe\">\n",
       "  <thead>\n",
       "    <tr style=\"text-align: right;\">\n",
       "      <th></th>\n",
       "      <th>LALVOTERID</th>\n",
       "      <th>Residence_Addresses_City</th>\n",
       "      <th>Voters_Gender</th>\n",
       "      <th>Voters_Age</th>\n",
       "      <th>Parties_Description</th>\n",
       "      <th>EthnicGroups_EthnicGroup1Desc</th>\n",
       "      <th>Voters_OfficialRegDate</th>\n",
       "      <th>County</th>\n",
       "      <th>CommercialData_Education</th>\n",
       "      <th>CommercialData_EstimatedHHIncome</th>\n",
       "      <th>FECDonors_NumberOfDonations</th>\n",
       "      <th>FECDonors_TotalDonationsAmount</th>\n",
       "      <th>Voters_Age_label</th>\n",
       "      <th>FECDonors_NumberOfDonations_label</th>\n",
       "      <th>FECDonors_TotalDonationsAmount_label</th>\n",
       "    </tr>\n",
       "  </thead>\n",
       "  <tbody>\n",
       "    <tr>\n",
       "      <th>0</th>\n",
       "      <td>LALCA453164106</td>\n",
       "      <td>Oakland</td>\n",
       "      <td>F</td>\n",
       "      <td>29.0</td>\n",
       "      <td>Democratic</td>\n",
       "      <td>Other</td>\n",
       "      <td>06/18/2021</td>\n",
       "      <td>ALAMEDA</td>\n",
       "      <td>None</td>\n",
       "      <td>None</td>\n",
       "      <td>0.0</td>\n",
       "      <td>0.0</td>\n",
       "      <td>&gt;=30</td>\n",
       "      <td>0</td>\n",
       "      <td>0</td>\n",
       "    </tr>\n",
       "    <tr>\n",
       "      <th>1</th>\n",
       "      <td>LALCA453008306</td>\n",
       "      <td>Oakland</td>\n",
       "      <td>F</td>\n",
       "      <td>26.0</td>\n",
       "      <td>Non-Partisan</td>\n",
       "      <td>Likely African-American</td>\n",
       "      <td>04/01/2021</td>\n",
       "      <td>ALAMEDA</td>\n",
       "      <td>None</td>\n",
       "      <td>None</td>\n",
       "      <td>0.0</td>\n",
       "      <td>0.0</td>\n",
       "      <td>&gt;=30</td>\n",
       "      <td>0</td>\n",
       "      <td>0</td>\n",
       "    </tr>\n",
       "    <tr>\n",
       "      <th>2</th>\n",
       "      <td>LALCA22129469</td>\n",
       "      <td>Oakland</td>\n",
       "      <td>F</td>\n",
       "      <td>47.0</td>\n",
       "      <td>Democratic</td>\n",
       "      <td>European</td>\n",
       "      <td>11/16/2021</td>\n",
       "      <td>ALAMEDA</td>\n",
       "      <td>HS Diploma - Extremely Likely</td>\n",
       "      <td>None</td>\n",
       "      <td>0.0</td>\n",
       "      <td>0.0</td>\n",
       "      <td>41-50</td>\n",
       "      <td>0</td>\n",
       "      <td>0</td>\n",
       "    </tr>\n",
       "    <tr>\n",
       "      <th>3</th>\n",
       "      <td>LALCA549803906</td>\n",
       "      <td>Oakland</td>\n",
       "      <td>M</td>\n",
       "      <td>60.0</td>\n",
       "      <td>Democratic</td>\n",
       "      <td>Other</td>\n",
       "      <td>02/07/2022</td>\n",
       "      <td>ALAMEDA</td>\n",
       "      <td>None</td>\n",
       "      <td>None</td>\n",
       "      <td>0.0</td>\n",
       "      <td>0.0</td>\n",
       "      <td>51-60</td>\n",
       "      <td>0</td>\n",
       "      <td>0</td>\n",
       "    </tr>\n",
       "    <tr>\n",
       "      <th>4</th>\n",
       "      <td>LALCA24729024</td>\n",
       "      <td>San Leandro</td>\n",
       "      <td>F</td>\n",
       "      <td>56.0</td>\n",
       "      <td>Democratic</td>\n",
       "      <td>European</td>\n",
       "      <td>02/28/2016</td>\n",
       "      <td>ALAMEDA</td>\n",
       "      <td>HS Diploma - Extremely Likely</td>\n",
       "      <td>None</td>\n",
       "      <td>0.0</td>\n",
       "      <td>0.0</td>\n",
       "      <td>51-60</td>\n",
       "      <td>0</td>\n",
       "      <td>0</td>\n",
       "    </tr>\n",
       "  </tbody>\n",
       "</table>\n",
       "</div>"
      ],
      "text/plain": [
       "       LALVOTERID Residence_Addresses_City Voters_Gender  Voters_Age  \\\n",
       "0  LALCA453164106                  Oakland             F        29.0   \n",
       "1  LALCA453008306                  Oakland             F        26.0   \n",
       "2   LALCA22129469                  Oakland             F        47.0   \n",
       "3  LALCA549803906                  Oakland             M        60.0   \n",
       "4   LALCA24729024              San Leandro             F        56.0   \n",
       "\n",
       "  Parties_Description EthnicGroups_EthnicGroup1Desc Voters_OfficialRegDate  \\\n",
       "0          Democratic                         Other             06/18/2021   \n",
       "1        Non-Partisan       Likely African-American             04/01/2021   \n",
       "2          Democratic                      European             11/16/2021   \n",
       "3          Democratic                         Other             02/07/2022   \n",
       "4          Democratic                      European             02/28/2016   \n",
       "\n",
       "    County       CommercialData_Education CommercialData_EstimatedHHIncome  \\\n",
       "0  ALAMEDA                           None                             None   \n",
       "1  ALAMEDA                           None                             None   \n",
       "2  ALAMEDA  HS Diploma - Extremely Likely                             None   \n",
       "3  ALAMEDA                           None                             None   \n",
       "4  ALAMEDA  HS Diploma - Extremely Likely                             None   \n",
       "\n",
       "   FECDonors_NumberOfDonations  FECDonors_TotalDonationsAmount  \\\n",
       "0                          0.0                             0.0   \n",
       "1                          0.0                             0.0   \n",
       "2                          0.0                             0.0   \n",
       "3                          0.0                             0.0   \n",
       "4                          0.0                             0.0   \n",
       "\n",
       "  Voters_Age_label FECDonors_NumberOfDonations_label  \\\n",
       "0             >=30                                 0   \n",
       "1             >=30                                 0   \n",
       "2            41-50                                 0   \n",
       "3            51-60                                 0   \n",
       "4            51-60                                 0   \n",
       "\n",
       "  FECDonors_TotalDonationsAmount_label  \n",
       "0                                    0  \n",
       "1                                    0  \n",
       "2                                    0  \n",
       "3                                    0  \n",
       "4                                    0  "
      ]
     },
     "execution_count": 18,
     "metadata": {},
     "output_type": "execute_result"
    }
   ],
   "source": [
    "state_demographic.head()"
   ]
  }
 ],
 "metadata": {
  "kernelspec": {
   "display_name": "Python 3",
   "language": "python",
   "name": "python3"
  },
  "language_info": {
   "codemirror_mode": {
    "name": "ipython",
    "version": 3
   },
   "file_extension": ".py",
   "mimetype": "text/x-python",
   "name": "python",
   "nbconvert_exporter": "python",
   "pygments_lexer": "ipython3",
   "version": "3.8.8"
  }
 },
 "nbformat": 4,
 "nbformat_minor": 5
}
